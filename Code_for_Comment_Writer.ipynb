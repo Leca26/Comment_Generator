{
 "cells": [
  {
   "cell_type": "markdown",
   "metadata": {
    "collapsed": false
   },
   "source": [
    "### Comment Writing Engine\n",
    "\n",
    "#### an application to help teachers write better comments in less time\n"
   ]
  },
  {
   "cell_type": "code",
   "execution_count": 8,
   "metadata": {
    "collapsed": false
   },
   "outputs": [
    {
     "name": "stdout",
     "output_type": "stream",
     "text": [
      "[4, 1]\n",
      "['B', ' essay', '  A', ' exam']\n",
      "[5, 2]\n",
      "['B-', ' essay', '  A-', ' exam']\n",
      "[4, 4]\n",
      "['B', ' essay', '  B', ' exam']\n"
     ]
    }
   ],
   "source": [
    "# functions and code for reading data files, generating comments and writing them to files\n",
    "import csv\n",
    "def avg(lst):\n",
    "    return sum(lst)/len(lst)\n",
    "def get_desc(data):\n",
    "    '''returns the class description'''\n",
    "    return data[0]\n",
    "        \n",
    "def make_adj(data):\n",
    "    '''takes the dict of adjectives and returns a short descriptor for each of them in a list, as well as a personalized description if it exists'''\n",
    "    adjectives = {\"hard-worker\": \"stellar work ethic and are always on top of things.\",\n",
    "             \"creative\": 'thinks out of the box on a consistent basis',\n",
    "             \"kind\": \"never fails to assist classmates when they struggle\",\n",
    "             \"responsible\": \"always turns in assignments on time\",\n",
    "                 \"loud\": \"can be a bit chaotic in class\"} #text me if u want me to add more adjectives\n",
    "    adjs = data[3].split(',')\n",
    "    descriptor = data[4].split(',')\n",
    "    ret = []\n",
    "    for i in range(len(adjs)):\n",
    "        if descriptor != '---':\n",
    "            ret.append((adjs[i], descriptor[i]))\n",
    "        elif descripor in adjectives.keys():\n",
    "            ret.append((adjs[i],adjectives[descriptor]))\n",
    "        else:\n",
    "            ret.append(adjs[i])\n",
    "            \n",
    "    return ret   \n",
    "\n",
    "def meet(data):\n",
    "    '''checks to see if student needs to meet outside of class with teacher'''\n",
    "    if data[9].lower() == 'y':\n",
    "        return \"I recommend that you meet with me outside of class more frequently to better understand this course's concepts.\"\n",
    "    else:\n",
    "        return 'It is not necessary for you to meet with me outside of class.'\n",
    "\n",
    "def groups(data):\n",
    "    '''checks to see if student participates in group discussion'''\n",
    "    if data[10].lower() == 'y' and data[11].lower() == 'y':\n",
    "        return 'I see that you are strong in large group discussions and work well with other students in small groups.'\n",
    "    elif  data[10].lower() == 'n' and data[11].lower() == 'y':\n",
    "        return \"I see that you are strong in small group discussions but you need to work on your large group sharing skills.\"\n",
    "    elif  data[10].lower() == 'y' and data[11].lower() == 'n':\n",
    "        return \"I see that you are strong with small group discussion skills but you need to work on sharing in a large group.\"\n",
    "    else:\n",
    "        return 'You need to work on your discussion skills in both large and small groups'\n",
    "def progress(data):\n",
    "    '''gets keygrades'''\n",
    "    grades = {'A': 1,\n",
    "             'A-': 2,\n",
    "             'B+': 3,\n",
    "             'B': 4,\n",
    "             'B-': 5,\n",
    "             'C+': 6,\n",
    "             'C': 7,\n",
    "             'C-': 8,\n",
    "             'D+': 9,\n",
    "             'D': 10,\n",
    "             'D-': 11\n",
    "             }\n",
    "    student_grades = [grades[convert] for convert in [grade.strip() for grade in data[8].replace('(','').strip().split(',')[::2]]]\n",
    "    print(student_grades)\n",
    "    if student_grades[0] - student_grades[-1] < -1:\n",
    "        return 'You could work on staying consistent in your level of work.'\n",
    "    elif student_grades[0] - student_grades[-1] <= 0:\n",
    "        return \"You are very consistent in the level of your work!\"\n",
    "    elif student_grades[0] - student_grades[-1] <= 3:\n",
    "        return \"You have shown good improvement in your abilities in this course\"\n",
    "    elif student_grades[0] - student_grades[-1] <= 6:\n",
    "        return \"You have made considerable growth in this class. I am very impressed by your improvement.\"\n",
    "    elif student_grades[0] - student_grades[-1] <= 10:\n",
    "        return \"Your growth this year has been tremendous; throughout this course your abilities to demonstrate your learning have increased greatly, and I look forward to how you will continue to grow during the rest of this year.\"\n",
    "\n",
    "def key_grades(data):\n",
    "    grades = {'A': 1, 'A-': 2,'B+': 3,'B': 4,'B-': 5,'C+': 6,'C': 7,'C-': 8,'D+': 9,'D': 10,'D-': 11}\n",
    "    kgs = data[8].replace('(','').replace(')','').strip().split(',')\n",
    "    print(kgs)\n",
    "    rets = ''\n",
    "    kgscores = [grades[convert] for convert in [grade.strip() for grade in data[8].replace('(','').strip().split(',')[::2]]]\n",
    "    for num,grade in enumerate([(kgs[i],kgs[i+1]) for i in range(0,len(kgs),2)]):\n",
    "        if kgscores[num] <= avg(kgscores):\n",
    "            rets += f'You did well on the {grade[1].strip()} where you got a {grade[0].strip()}! '\n",
    "        elif  kgscores[num] > avg(kgscores):\n",
    "            rets += f'You struggled on the{grade[1].strip()} where you got a {grade[0].strip()}. '\n",
    "        \n",
    "    return rets\n",
    "        \n",
    "    \n",
    "    \n",
    "    \n",
    "    \n",
    "    \n",
    "def end_grade(data):\n",
    "    end = data[7]\n",
    "    rets = {'A': 'keep up the great work! You have shown consistent understanding of the concepts throughout the whole semester.',\n",
    "           'B' : 'good work overall! You showed a consistent understanding of many of the concepts we have covered, but there is still room for growth!',\n",
    "           'C': 'You need to improve on your understanding of the material, I look forward to seeing you improve and apply yourself!',\n",
    "           'D': \"You have a really long way to go to be at the level of this course. :(\"}\n",
    "    if end[0] in rets.keys() and end[0] == 'A':\n",
    "        return f'You got an {end} for this semester, {rets[end[0]]}'\n",
    "    elif  end[0] in rets.keys():\n",
    "        return f'You got a {end} for this semester, {rets[end[0]]}'\n",
    "    \n",
    "def main(name):\n",
    "    with open('stud_info.csv') as f:\n",
    "        data = csv.reader(f, delimiter = \",\")\n",
    "        retstr = ''\n",
    "        for row in data :\n",
    "            if row[2] == name:\n",
    "                retstr += get_desc(row) + '\\n'\n",
    "                retstr += name + ', '\n",
    "                for number, line in enumerate(make_adj(row)):\n",
    "                    if number == 0:\n",
    "                        retstr += f'you have been very {line[0].strip()}, as shown in that {line[1]}'     \n",
    "                    elif line[1].strip() != '---': \n",
    "                        retstr += f'. Also, you demonstrate how you are {line[0].strip()} often, seen in how{line[1]}. '\n",
    "                    else:\n",
    "                        retstr += f'. Also, you are {line[0].strip()} in class. '\n",
    "                retstr += meet(row) + ' '\n",
    "                retstr += groups(row) + '\\n'\n",
    "                retstr += progress(row) + ' '\n",
    "                #retstr += key_grades(row)\n",
    "                retstr += end_grade(row)\n",
    "                \n",
    "    return retstr\n",
    "\n",
    "        \n",
    "with open('stud_info.csv') as f:\n",
    "    rows = csv.reader(f, delimiter = \",\")\n",
    "    header = next(rows)\n",
    "    for row in rows:\n",
    "        with open(f'{row[2]}.txt','w') as x:\n",
    "            x.write(main(row[2]))"
   ]
  },
  {
   "cell_type": "code",
   "execution_count": 0,
   "metadata": {
    "collapsed": false
   },
   "outputs": [
   ],
   "source": [
   ]
  },
  {
   "cell_type": "code",
   "execution_count": 0,
   "metadata": {
    "collapsed": false
   },
   "outputs": [
   ],
   "source": [
   ]
  }
 ],
 "metadata": {
  "kernelspec": {
   "argv": [
    "/ext/jupyter/kernels/anaconda2022/launch.sh",
    "{connection_file}"
   ],
   "display_name": "Python 3 (Anaconda 2022)",
   "env": {
   },
   "language": "python",
   "metadata": {
    "cocalc": {
     "description": "Anaconda 2022.05 Python 3 environment",
     "priority": 5,
     "url": "https://www.anaconda.com/distribution/"
    }
   },
   "name": "anaconda2022",
   "resource_dir": "/ext/jupyter/kernels/anaconda2022"
  }
 },
 "nbformat": 4,
 "nbformat_minor": 4
}